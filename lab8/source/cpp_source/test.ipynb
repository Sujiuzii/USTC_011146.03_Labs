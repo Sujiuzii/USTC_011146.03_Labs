{
 "cells": [
  {
   "cell_type": "code",
   "execution_count": 7,
   "metadata": {},
   "outputs": [],
   "source": [
    "import numpy as np"
   ]
  },
  {
   "cell_type": "code",
   "execution_count": 1,
   "metadata": {},
   "outputs": [],
   "source": [
    "def decimal_to_binary(n):\n",
    "    return bin(n).replace(\"0b\", \"\")"
   ]
  },
  {
   "cell_type": "code",
   "execution_count": 26,
   "metadata": {},
   "outputs": [],
   "source": [
    "def read_file(file_name):\n",
    "    with open(file_name, \"r\") as f:\n",
    "        return f.read().splitlines()\n",
    "    \n",
    "# turn the data into a list of integers\n",
    "def parse_data(data):\n",
    "    return [int(x) for x in data]\n",
    "\n",
    "def get_binary_data_from_file(file_name):\n",
    "    return [decimal_to_binary(x) for x in parse_data(read_file(file_name))]"
   ]
  },
  {
   "cell_type": "code",
   "execution_count": 27,
   "metadata": {},
   "outputs": [
    {
     "name": "stdout",
     "output_type": "stream",
     "text": [
      "11001110110110111011110011\n"
     ]
    },
    {
     "ename": "TypeError",
     "evalue": "'int' object is not callable",
     "output_type": "error",
     "traceback": [
      "\u001b[0;31m---------------------------------------------------------------------------\u001b[0m",
      "\u001b[0;31mTypeError\u001b[0m                                 Traceback (most recent call last)",
      "\u001b[1;32m/home/zeng/Documents/alg-lab/lab8/source/cpp_source/test.ipynb Cell 4\u001b[0m line \u001b[0;36m6\n\u001b[1;32m      <a href='vscode-notebook-cell:/home/zeng/Documents/alg-lab/lab8/source/cpp_source/test.ipynb#W2sZmlsZQ%3D%3D?line=3'>4</a>\u001b[0m \u001b[39mfor\u001b[39;00m x \u001b[39min\u001b[39;00m a:\n\u001b[1;32m      <a href='vscode-notebook-cell:/home/zeng/Documents/alg-lab/lab8/source/cpp_source/test.ipynb#W2sZmlsZQ%3D%3D?line=4'>5</a>\u001b[0m     \u001b[39mprint\u001b[39m(x)\n\u001b[0;32m----> <a href='vscode-notebook-cell:/home/zeng/Documents/alg-lab/lab8/source/cpp_source/test.ipynb#W2sZmlsZQ%3D%3D?line=5'>6</a>\u001b[0m     \u001b[39mif\u001b[39;00m length \u001b[39m<\u001b[39m \u001b[39mlen\u001b[39;49m(x):\n\u001b[1;32m      <a href='vscode-notebook-cell:/home/zeng/Documents/alg-lab/lab8/source/cpp_source/test.ipynb#W2sZmlsZQ%3D%3D?line=6'>7</a>\u001b[0m         length \u001b[39m=\u001b[39m \u001b[39mlen\u001b[39m(x)\n\u001b[1;32m      <a href='vscode-notebook-cell:/home/zeng/Documents/alg-lab/lab8/source/cpp_source/test.ipynb#W2sZmlsZQ%3D%3D?line=7'>8</a>\u001b[0m a\u001b[39m.\u001b[39msize, length\n",
      "\u001b[0;31mTypeError\u001b[0m: 'int' object is not callable"
     ]
    }
   ],
   "source": [
    "a = get_binary_data_from_file(\"../data/twitter_small.txt\")\n",
    "# a = np.array(a)\n",
    "length = 0\n",
    "for x in a:\n",
    "    print(x)\n",
    "    if length < len(x):\n",
    "        length = len(x)\n",
    "a.size, length\n"
   ]
  }
 ],
 "metadata": {
  "kernelspec": {
   "display_name": "Python 3",
   "language": "python",
   "name": "python3"
  },
  "language_info": {
   "codemirror_mode": {
    "name": "ipython",
    "version": 3
   },
   "file_extension": ".py",
   "mimetype": "text/x-python",
   "name": "python",
   "nbconvert_exporter": "python",
   "pygments_lexer": "ipython3",
   "version": "3.10.12"
  }
 },
 "nbformat": 4,
 "nbformat_minor": 2
}
